{
 "cells": [
  {
   "cell_type": "markdown",
   "id": "e4582102",
   "metadata": {},
   "source": [
    "# Exploring Hacker News Posts \n",
    "\n",
    "Hacker News is a website where users submit posts that other users can comment on.  There are two main types of posts, \"Ask HN\" and \"Show HN\".  \"Ask HN\" are specific questions users submit while \"Show HN\" are specific projects or pieces of work users submit.\n",
    "\n",
    "With the data we are given, we are trying to find out which of the two main types of posts receive more comments on average.  We will also determine if posting at certain times of the day is more advantageous when trying to receive more comments on average."
   ]
  },
  {
   "cell_type": "markdown",
   "id": "95cc39fe",
   "metadata": {},
   "source": [
    "### Importing and Reading data"
   ]
  },
  {
   "cell_type": "code",
   "execution_count": 1,
   "id": "22cdef56",
   "metadata": {},
   "outputs": [],
   "source": [
    "# Here we are importing the data set 'hacker_news.csv', reading it as a\n",
    "# list of lists, and assigning to the variable 'hn'.\n",
    "from csv import reader\n",
    "\n",
    "opened_file = open('hacker_news.csv', encoding=\"utf8\")\n",
    "read_file = reader(opened_file)\n",
    "hn = list(read_file)\n",
    "\n",
    "# We have created two lists, one with header information and\n",
    "# one without header information.\n",
    "headers = hn[0]\n",
    "hn = hn[1:]"
   ]
  },
  {
   "cell_type": "code",
   "execution_count": 2,
   "id": "66166487",
   "metadata": {
    "scrolled": true
   },
   "outputs": [
    {
     "name": "stdout",
     "output_type": "stream",
     "text": [
      "['id', 'title', 'url', 'num_points', 'num_comments', 'author', 'created_at']\n",
      "\n",
      "\n"
     ]
    },
    {
     "data": {
      "text/plain": [
       "[['12579008',\n",
       "  'You have two days to comment if you want stem cells to be classified as your own',\n",
       "  'http://www.regulations.gov/document?D=FDA-2015-D-3719-0018',\n",
       "  '1',\n",
       "  '0',\n",
       "  'altstar',\n",
       "  '9/26/2016 3:26'],\n",
       " ['12579005',\n",
       "  'SQLAR  the SQLite Archiver',\n",
       "  'https://www.sqlite.org/sqlar/doc/trunk/README.md',\n",
       "  '1',\n",
       "  '0',\n",
       "  'blacksqr',\n",
       "  '9/26/2016 3:24'],\n",
       " ['12578997',\n",
       "  'What if we just printed a flatscreen television on the side of our boxes?',\n",
       "  'https://medium.com/vanmoof/our-secrets-out-f21c1f03fdc8#.ietxmez43',\n",
       "  '1',\n",
       "  '0',\n",
       "  'pavel_lishin',\n",
       "  '9/26/2016 3:19'],\n",
       " ['12578989',\n",
       "  'algorithmic music',\n",
       "  'http://cacm.acm.org/magazines/2011/7/109891-algorithmic-composition/fulltext',\n",
       "  '1',\n",
       "  '0',\n",
       "  'poindontcare',\n",
       "  '9/26/2016 3:16'],\n",
       " ['12578979',\n",
       "  'How the Data Vault Enables the Next-Gen Data Warehouse and Data Lake',\n",
       "  'https://www.talend.com/blog/2016/05/12/talend-and-Â\\x93the-data-vaultÂ\\x94',\n",
       "  '1',\n",
       "  '0',\n",
       "  'markgainor1',\n",
       "  '9/26/2016 3:14']]"
      ]
     },
     "execution_count": 2,
     "metadata": {},
     "output_type": "execute_result"
    }
   ],
   "source": [
    "# Displaying the first 5 rows of the list.\n",
    "print(headers)\n",
    "print('\\n')\n",
    "hn[0:5]"
   ]
  },
  {
   "cell_type": "markdown",
   "id": "a0f80536",
   "metadata": {},
   "source": [
    "### Splitting 'Ask HN' + 'Show HN\" + other posts\n",
    "\n",
    "It is time to make three lists and populate one with titles that start with **'Ask HN'**, another list with **'Show HN'**, and the last list do not have either (**'Other'**)."
   ]
  },
  {
   "cell_type": "code",
   "execution_count": 3,
   "id": "1fb6a00e",
   "metadata": {},
   "outputs": [],
   "source": [
    "# Initializing three lists.\n",
    "ask_posts = []\n",
    "show_posts = []\n",
    "other_posts = []\n",
    "\n",
    "# Appending the post titles based on their titles, titles are\n",
    "# in the second column of the dataset.\n",
    "for row in hn:\n",
    "    title = row[1]\n",
    "    if title.lower().startswith('ask hn'):\n",
    "        ask_posts.append(row)\n",
    "    elif title.lower().startswith('show hn'):\n",
    "        show_posts.append(row)\n",
    "    else:\n",
    "        other_posts.append(row)"
   ]
  },
  {
   "cell_type": "code",
   "execution_count": 4,
   "id": "dd083a15",
   "metadata": {},
   "outputs": [
    {
     "name": "stdout",
     "output_type": "stream",
     "text": [
      "Total number of posts in Ask HN: 9139\n",
      "Total number of posts in Show HN 10158\n",
      "Total number of other posts: 273822\n"
     ]
    }
   ],
   "source": [
    "# Counting the number of posts in our three lists.\n",
    "print('Total number of posts in Ask HN:', len(ask_posts))\n",
    "print('Total number of posts in Show HN', len(show_posts))\n",
    "print('Total number of other posts:', len(other_posts))"
   ]
  },
  {
   "cell_type": "code",
   "execution_count": 5,
   "id": "7b6f0643",
   "metadata": {},
   "outputs": [
    {
     "data": {
      "text/plain": [
       "10.393478498741656"
      ]
     },
     "execution_count": 5,
     "metadata": {},
     "output_type": "execute_result"
    }
   ],
   "source": [
    "# For every post in ask_posts, count the number of comments in each post then add to total_ask_comments.\n",
    "# Now find the avg. number of 'Ask HN' comments: Total number of 'Ask HN' comments / Total number of 'Ask HN' comments. \n",
    "total_ask_comments = 0\n",
    "\n",
    "for row in ask_posts:\n",
    "    num_comments = int(row[4])\n",
    "    total_ask_comments += num_comments\n",
    "\n",
    "avg_ask_comments = total_ask_comments / (len(ask_posts))\n",
    "avg_ask_comments"
   ]
  },
  {
   "cell_type": "code",
   "execution_count": 6,
   "id": "51f45bd6",
   "metadata": {},
   "outputs": [
    {
     "data": {
      "text/plain": [
       "4.886099625910612"
      ]
     },
     "execution_count": 6,
     "metadata": {},
     "output_type": "execute_result"
    }
   ],
   "source": [
    "# For every post in show_posts, count the number of comments in each post then add to total_show_comments.\n",
    "# Now find the avg. number of 'Show HN' comments: Total number of 'Show HN' comments / Total number of 'Show HN' comments.\n",
    "total_show_comments = 0\n",
    "\n",
    "for row in show_posts:\n",
    "    num_comments = int(row[4])\n",
    "    total_show_comments += num_comments\n",
    "\n",
    "avg_show_comments = total_show_comments / len(show_posts)\n",
    "avg_show_comments"
   ]
  },
  {
   "cell_type": "code",
   "execution_count": 7,
   "id": "11ca9662",
   "metadata": {},
   "outputs": [
    {
     "name": "stdout",
     "output_type": "stream",
     "text": [
      "Average rounded number of comments on Ask HN posts =  10\n",
      "Average rounded number of comments on Show HN posts =  5\n"
     ]
    }
   ],
   "source": [
    "print('Average rounded number of comments on Ask HN posts = ', round(avg_ask_comments))\n",
    "print('Average rounded number of comments on Show HN posts = ', round(avg_show_comments))"
   ]
  },
  {
   "cell_type": "markdown",
   "id": "a56a3693",
   "metadata": {},
   "source": [
    "Ask HN posts receive about double the comments that Show HN posts receive. "
   ]
  },
  {
   "cell_type": "markdown",
   "id": "9d0986e8",
   "metadata": {},
   "source": [
    "## Finding the number of Ask posts and comments by hour created\n",
    "\n",
    "Next, we'll determine if ask posts created at a certain time are more likely to attract comments. We'll use the following steps to perform this analysis:\n",
    "\n",
    "1.  Calculate the number of ask posts created in each hour of the day, along with the number of comments received.\n",
    "2.  Calculate the average number of comments ask posts receive by hour created.\n"
   ]
  },
  {
   "cell_type": "code",
   "execution_count": 8,
   "id": "79655b5a",
   "metadata": {},
   "outputs": [],
   "source": [
    "# Importing the datetime module calling it dt\n",
    "import datetime as dt"
   ]
  },
  {
   "cell_type": "code",
   "execution_count": 18,
   "id": "ccb99f7d",
   "metadata": {},
   "outputs": [
    {
     "data": {
      "text/plain": [
       "[['9/26/2016 2:53', 7],\n",
       " ['9/26/2016 1:17', 3],\n",
       " ['9/25/2016 22:57', 0],\n",
       " ['9/25/2016 22:48', 3],\n",
       " ['9/25/2016 21:50', 2],\n",
       " ['9/25/2016 19:30', 1],\n",
       " ['9/25/2016 19:22', 22],\n",
       " ['9/25/2016 17:55', 3],\n",
       " ['9/25/2016 15:48', 0],\n",
       " ['9/25/2016 15:35', 13]]"
      ]
     },
     "execution_count": 18,
     "metadata": {},
     "output_type": "execute_result"
    }
   ],
   "source": [
    "# Creating an empty list then iterating over ask_posts to append the\n",
    "# created_at column and number of comments from the dataset.\n",
    "\n",
    "result_list = []\n",
    "\n",
    "for row in ask_posts:\n",
    "    created_at = row[6]\n",
    "    comments = int(row[4])\n",
    "    result_list.append([created_at, comments])\n",
    "result_list[:10]"
   ]
  },
  {
   "cell_type": "code",
   "execution_count": 10,
   "id": "00f1b65d",
   "metadata": {},
   "outputs": [
    {
     "name": "stdout",
     "output_type": "stream",
     "text": [
      "Number of posts created during each hour of the day: {2: 269, 1: 282, 22: 383, 21: 518, 19: 552, 17: 587, 15: 646, 14: 513, 13: 444, 11: 312, 10: 282, 9: 222, 7: 226, 3: 271, 23: 343, 20: 510, 16: 579, 8: 257, 0: 301, 18: 614, 12: 342, 4: 243, 6: 234, 5: 209}\n",
      "Number of comments ask posts created at each of received: {2: 2996, 1: 2089, 22: 3372, 21: 4500, 19: 3954, 17: 5547, 15: 18525, 14: 4972, 13: 7245, 11: 2797, 10: 3013, 9: 1477, 7: 1585, 3: 2154, 23: 2297, 20: 4462, 16: 4466, 8: 2362, 0: 2277, 18: 4877, 12: 4234, 4: 2360, 6: 1587, 5: 1838}\n"
     ]
    }
   ],
   "source": [
    "# Here we are parsing the date info from column 0 of result_list and getting the hour info from each as well.\n",
    "# Then we are counting how many ask posts are created in each our and how many comments there were.\n",
    "\n",
    "counts_by_hour = {}\n",
    "comments_by_hour = {}\n",
    "\n",
    "for row in result_list:\n",
    "    post_created = row[0]\n",
    "    comments_count = row[1]\n",
    "    date_created = dt.datetime.strptime(post_created, \"%m/%d/%Y %H:%M\")\n",
    "    hour_created = date_created.hour\n",
    "    if hour_created in counts_by_hour:\n",
    "        counts_by_hour[hour_created] += 1\n",
    "        comments_by_hour[hour_created] += comments_count\n",
    "    else:\n",
    "        counts_by_hour[hour_created] = 1\n",
    "        comments_by_hour[hour_created] = comments_count\n",
    "\n",
    "print(\"Number of posts created during each hour of the day:\", counts_by_hour)\n",
    "print(\"Number of comments ask posts created at each of received:\", comments_by_hour)"
   ]
  },
  {
   "cell_type": "code",
   "execution_count": 19,
   "id": "51baecc1",
   "metadata": {},
   "outputs": [
    {
     "data": {
      "text/plain": [
       "[[2, 11.137546468401487],\n",
       " [1, 7.407801418439717],\n",
       " [22, 8.804177545691905],\n",
       " [21, 8.687258687258687],\n",
       " [19, 7.163043478260869],\n",
       " [17, 9.449744463373083],\n",
       " [15, 28.676470588235293],\n",
       " [14, 9.692007797270955],\n",
       " [13, 16.31756756756757],\n",
       " [11, 8.96474358974359]]"
      ]
     },
     "execution_count": 19,
     "metadata": {},
     "output_type": "execute_result"
    }
   ],
   "source": [
    "# Calculating the average number of comments \"Ask HN\" posts receive by hour created.\n",
    "\n",
    "avg_by_hour = []\n",
    "\n",
    "for hour in counts_by_hour:\n",
    "    avg_by_hour.append([hour, comments_by_hour[hour] / counts_by_hour[hour]])\n",
    "avg_by_hour[:10]"
   ]
  },
  {
   "cell_type": "code",
   "execution_count": null,
   "id": "65fa17af",
   "metadata": {
    "scrolled": true
   },
   "outputs": [],
   "source": [
    "# We want to swap the elements in avg_by_hour so the average comments are the first column\n",
    "# and the hour created is the second column.\n",
    "\n",
    "swap_avg_by_hour = []\n",
    "\n",
    "for row in avg_by_hour:\n",
    "    hour = row[0]\n",
    "    comments = row[1]\n",
    "    swap_avg_by_hour.append([row[1], row[0]])\n",
    "\n",
    "# Here we are sorting the swapped list so list shows the average number of comments starting\n",
    "# from the most and descending to the least, and then printing the top 5.\n",
    "\n",
    "sorted_swap = sorted(swap_avg_by_hour, reverse = True)\n",
    "print(\"Top 5 Hours for 'Ask HN' Posts Comments:\")\n",
    "sorted_swap[:5]"
   ]
  },
  {
   "cell_type": "code",
   "execution_count": null,
   "id": "38d0bdc4",
   "metadata": {},
   "outputs": [],
   "source": [
    "# Here we are printing the hour and average in a particular format to make it\n",
    "# easier to read.\n",
    "\n",
    "string = \"Top 5 Hours for Ask Posts Comments\"\n",
    "print(string)\n",
    "print(\"-----------------------------------\")\n",
    "time_format = \"%H\"\n",
    "\n",
    "for row in sorted_swap[:5]:\n",
    "    date = dt.datetime.strptime(str(row[1]),'%H')\n",
    "    time = date.strftime('%H:%M')\n",
    "    template = \"{}: {:.2f} average comments per post\"\n",
    "    print(template.format(time,row[0]))"
   ]
  },
  {
   "cell_type": "markdown",
   "id": "c6f44bab",
   "metadata": {},
   "source": [
    "There are times to post during the day that will give you a higher chance of receiving comments.  15:00 (3 pm) is by far the best time to post something in the hopes of getting more comments.  3 pm can give you more than double the comments compared to most other times in the top 5 hours of the day.  "
   ]
  }
 ],
 "metadata": {
  "kernelspec": {
   "display_name": "Python 3",
   "language": "python",
   "name": "python3"
  },
  "language_info": {
   "codemirror_mode": {
    "name": "ipython",
    "version": 3
   },
   "file_extension": ".py",
   "mimetype": "text/x-python",
   "name": "python",
   "nbconvert_exporter": "python",
   "pygments_lexer": "ipython3",
   "version": "3.8.8"
  }
 },
 "nbformat": 4,
 "nbformat_minor": 5
}
